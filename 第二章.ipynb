{
 "cells": [
  {
   "cell_type": "code",
   "execution_count": 2,
   "id": "1d3e5e3b-2f9c-4965-a3d2-4eeaad61730a",
   "metadata": {},
   "outputs": [],
   "source": [
    "# 导入所需的库\n",
    "import pandas as pd\n",
    "import numpy as np\n",
    "import matplotlib.pyplot as plt\n",
    "import seaborn as sns\n",
    "from sklearn.preprocessing import StandardScaler\n",
    "from sklearn.model_selection import train_test_split\n"
   ]
  },
  {
   "cell_type": "code",
   "execution_count": 10,
   "id": "38d18f19-75df-4842-b21a-6f56f3c842e7",
   "metadata": {},
   "outputs": [
    {
     "name": "stdout",
     "output_type": "stream",
     "text": [
      "Processed E-commerce Data:\n",
      "  InvoiceNo StockCode                          Description  Quantity  \\\n",
      "0    536365    85123A   WHITE HANGING HEART T-LIGHT HOLDER         6   \n",
      "1    536365     71053                  WHITE METAL LANTERN         6   \n",
      "2    536365    84406B       CREAM CUPID HEARTS COAT HANGER         8   \n",
      "3    536365    84029G  KNITTED UNION FLAG HOT WATER BOTTLE         6   \n",
      "4    536365    84029E       RED WOOLLY HOTTIE WHITE HEART.         6   \n",
      "\n",
      "      InvoiceDate  UnitPrice  CustomerID         Country  TotalPurchaseAmount  \n",
      "0  12/1/2010 8:26       2.55     17850.0  United Kingdom                15.30  \n",
      "1  12/1/2010 8:26       3.39     17850.0  United Kingdom                20.34  \n",
      "2  12/1/2010 8:26       2.75     17850.0  United Kingdom                22.00  \n",
      "3  12/1/2010 8:26       3.39     17850.0  United Kingdom                20.34  \n",
      "4  12/1/2010 8:26       3.39     17850.0  United Kingdom                20.34  \n"
     ]
    }
   ],
   "source": [
    "# 设置chunk_size\n",
    "chunk_size = 50000  # 每次读取50000行数据\n",
    "\n",
    "# 读取E-commerce Data\n",
    "ecommerce_data_path = './data/ecommerce_data.csv'\n",
    "ecommerce_data_cols = ['InvoiceNo', 'StockCode', 'Description', 'Quantity', 'InvoiceDate', 'UnitPrice', 'CustomerID', 'Country']\n",
    "\n",
    "# 创建一个空DataFrame来保存处理后的数据\n",
    "ecommerce_data_processed = pd.DataFrame()\n",
    "\n",
    "# 逐块读取E-commerce Data\n",
    "chunks = pd.read_csv(ecommerce_data_path, encoding='ISO-8859-1', usecols=ecommerce_data_cols, chunksize=chunk_size)\n",
    "\n",
    "for chunk in chunks:\n",
    "    # 填补缺失值（不使用 inplace=True）\n",
    "    chunk['CustomerID'] = chunk['CustomerID'].fillna(chunk['CustomerID'].mode()[0])\n",
    "    chunk['Country'] = chunk['Country'].fillna(chunk['Country'].mode()[0])\n",
    "    chunk['Quantity'] = chunk['Quantity'].fillna(chunk['Quantity'].mean())\n",
    "\n",
    "    # 数据处理：计算总购买金额\n",
    "    chunk['TotalPurchaseAmount'] = chunk['Quantity'] * chunk['UnitPrice']\n",
    "    \n",
    "    # 将当前块数据追加到最终的DataFrame\n",
    "    ecommerce_data_processed = pd.concat([ecommerce_data_processed, chunk], ignore_index=True)\n",
    "\n",
    "# 查看处理后的E-commerce Data\n",
    "print(\"Processed E-commerce Data:\")\n",
    "print(ecommerce_data_processed.head())\n"
   ]
  },
  {
   "cell_type": "code",
   "execution_count": 12,
   "id": "e314e4d5-0676-4a5c-9c30-939799ee1225",
   "metadata": {},
   "outputs": [
    {
     "name": "stdout",
     "output_type": "stream",
     "text": [
      "Processed E-commerce Behavior Data:\n",
      "                event_time event_type  product_id          category_id  \\\n",
      "0  2019-10-01 00:00:00 UTC       view    44600062  2103807459595387724   \n",
      "1  2019-10-01 00:00:00 UTC       view     3900821  2053013552326770905   \n",
      "2  2019-10-01 00:00:01 UTC       view    17200506  2053013559792632471   \n",
      "3  2019-10-01 00:00:01 UTC       view     1307067  2053013558920217191   \n",
      "4  2019-10-01 00:00:04 UTC       view     1004237  2053013555631882655   \n",
      "\n",
      "                         category_code     brand    price    user_id  \\\n",
      "0                                  NaN  shiseido    35.79  541312140   \n",
      "1  appliances.environment.water_heater      aqua    33.20  554748717   \n",
      "2           furniture.living_room.sofa       NaN   543.10  519107250   \n",
      "3                   computers.notebook    lenovo   251.74  550050854   \n",
      "4               electronics.smartphone     apple  1081.98  535871217   \n",
      "\n",
      "                           user_session  TotalPurchaseAmount  \n",
      "0  72d76fde-8bb3-4e00-8c23-a032dfed738c                35.79  \n",
      "1  9333dfbd-b87a-4708-9857-6336556b0fcc                33.20  \n",
      "2  566511c2-e2e3-422b-b695-cf8e6e792ca8               543.10  \n",
      "3  7c90fc70-0e80-4590-96f3-13c02c18c713               251.74  \n",
      "4  c6bd7419-2748-4c56-95b4-8cec9ff8b80d              1081.98  \n"
     ]
    }
   ],
   "source": [
    "# 读取E-Commerce Behavior Data\n",
    "ecommerce_behavior_path = './data/ecommerce_behavior.csv'\n",
    "ecommerce_behavior_cols = ['event_time', 'event_type', 'product_id', 'category_id', 'category_code', 'brand', 'price', 'user_id', 'user_session']\n",
    "\n",
    "# 创建一个空DataFrame来保存处理后的数据\n",
    "ecommerce_behavior_processed = pd.DataFrame()\n",
    "\n",
    "# 逐块读取E-Commerce Behavior Data\n",
    "chunks = pd.read_csv(ecommerce_behavior_path, encoding='ISO-8859-1', usecols=ecommerce_behavior_cols, chunksize=chunk_size)\n",
    "\n",
    "for chunk in chunks:\n",
    "    # 填补缺失值（不使用 inplace=True）\n",
    "    chunk['user_id'] = chunk['user_id'].fillna(chunk['user_id'].mode()[0])\n",
    "    chunk['price'] = chunk['price'].fillna(chunk['price'].mean())\n",
    "    chunk['event_type'] = chunk['event_type'].fillna(chunk['event_type'].mode()[0])\n",
    "\n",
    "    # 数据处理：计算总购买金额\n",
    "    chunk['TotalPurchaseAmount'] = chunk['price'] * 1  # 假设每次事件都对应一次购买\n",
    "    \n",
    "    # 将当前块数据追加到最终的DataFrame\n",
    "    ecommerce_behavior_processed = pd.concat([ecommerce_behavior_processed, chunk], ignore_index=True)\n",
    "\n",
    "# 查看处理后的E-commerce Behavior Data\n",
    "print(\"Processed E-commerce Behavior Data:\")\n",
    "print(ecommerce_behavior_processed.head())\n"
   ]
  },
  {
   "cell_type": "code",
   "execution_count": 13,
   "id": "32db5390-193e-46ca-ad5d-0de58d1ebdbf",
   "metadata": {},
   "outputs": [],
   "source": [
    "# 使用IQR方法剔除异常值的函数\n",
    "def remove_outliers(df, column_name):\n",
    "    Q1 = df[column_name].quantile(0.25)\n",
    "    Q3 = df[column_name].quantile(0.75)\n",
    "    IQR = Q3 - Q1\n",
    "    return df[(df[column_name] >= (Q1 - 1.5 * IQR)) & (df[column_name] <= (Q3 + 1.5 * IQR))]\n",
    "\n",
    "# 对E-commerce Data处理异常值\n",
    "ecommerce_data_processed = remove_outliers(ecommerce_data_processed, 'Quantity')\n",
    "\n",
    "# 对E-commerce Behavior数据处理异常值\n",
    "ecommerce_behavior_processed = remove_outliers(ecommerce_behavior_processed, 'price')\n"
   ]
  },
  {
   "cell_type": "code",
   "execution_count": 14,
   "id": "cc808e7f-40fc-4745-ba87-36d996e26f9c",
   "metadata": {},
   "outputs": [
    {
     "name": "stdout",
     "output_type": "stream",
     "text": [
      "\n",
      "E-commerce Data after Standardization:\n",
      "  InvoiceNo StockCode                          Description  Quantity  \\\n",
      "0    536365    85123A   WHITE HANGING HEART T-LIGHT HOLDER  0.313548   \n",
      "1    536365     71053                  WHITE METAL LANTERN  0.313548   \n",
      "2    536365    84406B       CREAM CUPID HEARTS COAT HANGER  0.753492   \n",
      "3    536365    84029G  KNITTED UNION FLAG HOT WATER BOTTLE  0.313548   \n",
      "4    536365    84029E       RED WOOLLY HOTTIE WHITE HEART.  0.313548   \n",
      "\n",
      "      InvoiceDate  UnitPrice  CustomerID         Country  TotalPurchaseAmount  \n",
      "0  12/1/2010 8:26  -0.024046     17850.0  United Kingdom                15.30  \n",
      "1  12/1/2010 8:26  -0.015847     17850.0  United Kingdom                20.34  \n",
      "2  12/1/2010 8:26  -0.022094     17850.0  United Kingdom                22.00  \n",
      "3  12/1/2010 8:26  -0.015847     17850.0  United Kingdom                20.34  \n",
      "4  12/1/2010 8:26  -0.015847     17850.0  United Kingdom                20.34  \n",
      "\n",
      "E-Commerce Behavior Data after Standardization:\n",
      "                event_time event_type  product_id          category_id  \\\n",
      "0  2019-10-01 00:00:00 UTC       view    44600062  2103807459595387724   \n",
      "1  2019-10-01 00:00:00 UTC       view     3900821  2053013552326770905   \n",
      "2  2019-10-01 00:00:01 UTC       view    17200506  2053013559792632471   \n",
      "3  2019-10-01 00:00:01 UTC       view     1307067  2053013558920217191   \n",
      "6  2019-10-01 00:00:08 UTC       view    17300353  2053013553853497655   \n",
      "\n",
      "                         category_code     brand     price    user_id  \\\n",
      "0                                  NaN  shiseido -0.904860  541312140   \n",
      "1  appliances.environment.water_heater      aqua -0.919062  554748717   \n",
      "2           furniture.living_room.sofa       NaN  1.876886  519107250   \n",
      "3                   computers.notebook    lenovo  0.279264  550050854   \n",
      "6                                  NaN     creed  0.987820  555447699   \n",
      "\n",
      "                           user_session  TotalPurchaseAmount  \n",
      "0  72d76fde-8bb3-4e00-8c23-a032dfed738c                35.79  \n",
      "1  9333dfbd-b87a-4708-9857-6336556b0fcc                33.20  \n",
      "2  566511c2-e2e3-422b-b695-cf8e6e792ca8               543.10  \n",
      "3  7c90fc70-0e80-4590-96f3-13c02c18c713               251.74  \n",
      "6  4fe811e9-91de-46da-90c3-bbd87ed3a65d               380.96  \n"
     ]
    }
   ],
   "source": [
    "# 初始化标准化对象\n",
    "scaler = StandardScaler()\n",
    "\n",
    "# 对E-commerce Data的数值列进行标准化\n",
    "ecommerce_data_processed[['Quantity', 'UnitPrice']] = scaler.fit_transform(ecommerce_data_processed[['Quantity', 'UnitPrice']])\n",
    "\n",
    "# 对E-commerce Behavior数据的数值列进行标准化\n",
    "ecommerce_behavior_processed[['price']] = scaler.fit_transform(ecommerce_behavior_processed[['price']])\n",
    "\n",
    "# 查看数据标准化后的结果\n",
    "print(\"\\nE-commerce Data after Standardization:\")\n",
    "print(ecommerce_data_processed.head())\n",
    "\n",
    "print(\"\\nE-Commerce Behavior Data after Standardization:\")\n",
    "print(ecommerce_behavior_processed.head())\n"
   ]
  },
  {
   "cell_type": "code",
   "execution_count": 15,
   "id": "3fdd994f-cb90-448c-a28a-2a097eb49b25",
   "metadata": {},
   "outputs": [
    {
     "name": "stdout",
     "output_type": "stream",
     "text": [
      "\n",
      "E-commerce Data with One-Hot Encoding:\n",
      "  InvoiceNo StockCode                          Description  Quantity  \\\n",
      "0    536365    85123A   WHITE HANGING HEART T-LIGHT HOLDER  0.313548   \n",
      "1    536365     71053                  WHITE METAL LANTERN  0.313548   \n",
      "2    536365    84406B       CREAM CUPID HEARTS COAT HANGER  0.753492   \n",
      "3    536365    84029G  KNITTED UNION FLAG HOT WATER BOTTLE  0.313548   \n",
      "4    536365    84029E       RED WOOLLY HOTTIE WHITE HEART.  0.313548   \n",
      "\n",
      "      InvoiceDate  UnitPrice  CustomerID  TotalPurchaseAmount  \\\n",
      "0  12/1/2010 8:26  -0.024046     17850.0                15.30   \n",
      "1  12/1/2010 8:26  -0.015847     17850.0                20.34   \n",
      "2  12/1/2010 8:26  -0.022094     17850.0                22.00   \n",
      "3  12/1/2010 8:26  -0.015847     17850.0                20.34   \n",
      "4  12/1/2010 8:26  -0.015847     17850.0                20.34   \n",
      "\n",
      "   Country_Austria  Country_Bahrain  ...  Country_RSA  Country_Saudi Arabia  \\\n",
      "0            False            False  ...        False                 False   \n",
      "1            False            False  ...        False                 False   \n",
      "2            False            False  ...        False                 False   \n",
      "3            False            False  ...        False                 False   \n",
      "4            False            False  ...        False                 False   \n",
      "\n",
      "   Country_Singapore  Country_Spain  Country_Sweden  Country_Switzerland  \\\n",
      "0              False          False           False                False   \n",
      "1              False          False           False                False   \n",
      "2              False          False           False                False   \n",
      "3              False          False           False                False   \n",
      "4              False          False           False                False   \n",
      "\n",
      "   Country_USA  Country_United Arab Emirates  Country_United Kingdom  \\\n",
      "0        False                         False                    True   \n",
      "1        False                         False                    True   \n",
      "2        False                         False                    True   \n",
      "3        False                         False                    True   \n",
      "4        False                         False                    True   \n",
      "\n",
      "   Country_Unspecified  \n",
      "0                False  \n",
      "1                False  \n",
      "2                False  \n",
      "3                False  \n",
      "4                False  \n",
      "\n",
      "[5 rows x 45 columns]\n",
      "\n",
      "E-Commerce Behavior Data with One-Hot Encoding:\n",
      "                event_time  product_id          category_id  \\\n",
      "0  2019-10-01 00:00:00 UTC    44600062  2103807459595387724   \n",
      "1  2019-10-01 00:00:00 UTC     3900821  2053013552326770905   \n",
      "2  2019-10-01 00:00:01 UTC    17200506  2053013559792632471   \n",
      "3  2019-10-01 00:00:01 UTC     1307067  2053013558920217191   \n",
      "6  2019-10-01 00:00:08 UTC    17300353  2053013553853497655   \n",
      "\n",
      "                         category_code     brand     price    user_id  \\\n",
      "0                                  NaN  shiseido -0.904860  541312140   \n",
      "1  appliances.environment.water_heater      aqua -0.919062  554748717   \n",
      "2           furniture.living_room.sofa       NaN  1.876886  519107250   \n",
      "3                   computers.notebook    lenovo  0.279264  550050854   \n",
      "6                                  NaN     creed  0.987820  555447699   \n",
      "\n",
      "                           user_session  TotalPurchaseAmount  \\\n",
      "0  72d76fde-8bb3-4e00-8c23-a032dfed738c                35.79   \n",
      "1  9333dfbd-b87a-4708-9857-6336556b0fcc                33.20   \n",
      "2  566511c2-e2e3-422b-b695-cf8e6e792ca8               543.10   \n",
      "3  7c90fc70-0e80-4590-96f3-13c02c18c713               251.74   \n",
      "6  4fe811e9-91de-46da-90c3-bbd87ed3a65d               380.96   \n",
      "\n",
      "   event_type_purchase  event_type_view  \n",
      "0                False             True  \n",
      "1                False             True  \n",
      "2                False             True  \n",
      "3                False             True  \n",
      "6                False             True  \n"
     ]
    }
   ],
   "source": [
    "# 对E-commerce Data的类别型数据进行One-Hot编码\n",
    "ecommerce_data_processed = pd.get_dummies(ecommerce_data_processed, columns=['Country'], drop_first=True)\n",
    "\n",
    "# 对E-commerce Behavior数据的类别型数据进行One-Hot编码\n",
    "ecommerce_behavior_processed = pd.get_dummies(ecommerce_behavior_processed, columns=['event_type'], drop_first=True)\n",
    "\n",
    "# 查看编码后的数据\n",
    "print(\"\\nE-commerce Data with One-Hot Encoding:\")\n",
    "print(ecommerce_data_processed.head())\n",
    "\n",
    "print(\"\\nE-Commerce Behavior Data with One-Hot Encoding:\")\n",
    "print(ecommerce_behavior_processed.head())\n"
   ]
  },
  {
   "cell_type": "code",
   "execution_count": 16,
   "id": "cc0d90e6-65dd-48b1-b763-a81b3713f328",
   "metadata": {},
   "outputs": [
    {
     "name": "stdout",
     "output_type": "stream",
     "text": [
      "\n",
      "E-commerce Data with new features:\n",
      "   CustomerID  TotalPurchaseAmount\n",
      "0     17850.0            -0.007540\n",
      "1     17850.0            -0.004969\n",
      "2     17850.0            -0.016648\n",
      "3     17850.0            -0.004969\n",
      "4     17850.0            -0.004969\n",
      "\n",
      "E-Commerce Behavior Data with new features:\n",
      "     user_id  TotalPurchaseAmount\n",
      "0  541312140            -0.904860\n",
      "1  554748717            -0.919062\n",
      "2  519107250             1.876886\n",
      "3  550050854             0.279264\n",
      "6  555447699             0.987820\n"
     ]
    }
   ],
   "source": [
    "# 对E-commerce Data进行特征构造：用户的总购买金额\n",
    "ecommerce_data_processed['TotalPurchaseAmount'] = ecommerce_data_processed['Quantity'] * ecommerce_data_processed['UnitPrice']\n",
    "\n",
    "# 对E-commerce Behavior数据进行特征构造：用户的总购买金额\n",
    "ecommerce_behavior_processed['TotalPurchaseAmount'] = ecommerce_behavior_processed['price'] * 1  # 假设每次事件都对应一次购买\n",
    "\n",
    "# 查看新特征\n",
    "print(\"\\nE-commerce Data with new features:\")\n",
    "print(ecommerce_data_processed[['CustomerID', 'TotalPurchaseAmount']].head())\n",
    "\n",
    "print(\"\\nE-Commerce Behavior Data with new features:\")\n",
    "print(ecommerce_behavior_processed[['user_id', 'TotalPurchaseAmount']].head())\n"
   ]
  },
  {
   "cell_type": "code",
   "execution_count": 17,
   "id": "608d042b-35ff-42b8-a2fa-6b6840b1e793",
   "metadata": {},
   "outputs": [
    {
     "name": "stdout",
     "output_type": "stream",
     "text": [
      "E-commerce Data Training set size: (386632, 44), Test set size: (96658, 44)\n",
      "E-commerce Behavior Training set size: (31021748, 10), Test set size: (7755438, 10)\n"
     ]
    }
   ],
   "source": [
    "# 对E-commerce Data进行数据集划分\n",
    "X_ecommerce = ecommerce_data_processed.drop(['TotalPurchaseAmount'], axis=1)  # 特征列\n",
    "y_ecommerce = ecommerce_data_processed['TotalPurchaseAmount']  # 目标列\n",
    "X_train_ecommerce, X_test_ecommerce, y_train_ecommerce, y_test_ecommerce = train_test_split(X_ecommerce, y_ecommerce, test_size=0.2, random_state=42)\n",
    "\n",
    "# 对E-commerce Behavior数据进行数据集划分\n",
    "X_behavior = ecommerce_behavior_processed.drop(['TotalPurchaseAmount'], axis=1)  # 特征列\n",
    "y_behavior = ecommerce_behavior_processed['TotalPurchaseAmount']  # 目标列\n",
    "X_train_behavior, X_test_behavior, y_train_behavior, y_test_behavior = train_test_split(X_behavior, y_behavior, test_size=0.2, random_state=42)\n",
    "\n",
    "# 输出划分后的数据集大小\n",
    "print(f'E-commerce Data Training set size: {X_train_ecommerce.shape}, Test set size: {X_test_ecommerce.shape}')\n",
    "print(f'E-commerce Behavior Training set size: {X_train_behavior.shape}, Test set size: {X_test_behavior.shape}')\n"
   ]
  },
  {
   "cell_type": "code",
   "execution_count": 20,
   "id": "5d8153c2-54e7-4095-80c0-74dcd0bf494d",
   "metadata": {},
   "outputs": [
    {
     "name": "stdout",
     "output_type": "stream",
     "text": [
      "Processed data saved successfully!\n"
     ]
    }
   ],
   "source": [
    "# 保存处理后的数据为新的CSV文件\n",
    "ecommerce_data_processed.to_csv('./data/processed_ecommerce_data.csv', index=False)\n",
    "ecommerce_behavior_processed.to_csv('./data/processed_ecommerce_behavior.csv', index=False)\n",
    "\n",
    "print(\"Processed data saved successfully!\")\n"
   ]
  }
 ],
 "metadata": {
  "kernelspec": {
   "display_name": "Python [conda env:base] *",
   "language": "python",
   "name": "conda-base-py"
  },
  "language_info": {
   "codemirror_mode": {
    "name": "ipython",
    "version": 3
   },
   "file_extension": ".py",
   "mimetype": "text/x-python",
   "name": "python",
   "nbconvert_exporter": "python",
   "pygments_lexer": "ipython3",
   "version": "3.12.7"
  }
 },
 "nbformat": 4,
 "nbformat_minor": 5
}
