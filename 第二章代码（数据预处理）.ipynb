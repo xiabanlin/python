{
 "cells": [
  {
   "cell_type": "code",
   "execution_count": null,
   "id": "09f44c4b",
   "metadata": {
    "vscode": {
     "languageId": "plaintext"
    }
   },
   "outputs": [],
   "source": [
    "#安装依赖库\n",
    "!pip install pandas numpy matplotlib seaborn scikit-learn\n"
   ]
  },
  {
   "cell_type": "code",
   "execution_count": null,
   "id": "6a78c8c1",
   "metadata": {
    "vscode": {
     "languageId": "plaintext"
    }
   },
   "outputs": [],
   "source": [
    "# 导入所需的库\n",
    "import pandas as pd\n",
    "import numpy as np\n",
    "import matplotlib.pyplot as plt\n",
    "import seaborn as sns\n",
    "from sklearn.preprocessing import StandardScaler\n",
    "from sklearn.model_selection import train_test_split\n"
   ]
  },
  {
   "cell_type": "code",
   "execution_count": null,
   "id": "76e2647f",
   "metadata": {
    "vscode": {
     "languageId": "plaintext"
    }
   },
   "outputs": [],
   "source": [
    "# 读取数据\n",
    "ecommerce_data_path = './data/ecommerce_data.csv'\n",
    "ecommerce_behavior_path = './data/ecommerce_behavior.csv'\n",
    "\n",
    "ecommerce_data = pd.read_csv(ecommerce_data_path)\n",
    "ecommerce_behavior = pd.read_csv(ecommerce_behavior_path)\n",
    "\n",
    "# 查看数据的前几行\n",
    "print(\"E-commerce Data:\")\n",
    "print(ecommerce_data.head())\n",
    "\n",
    "print(\"\\nE-Commerce Behavior Data:\")\n",
    "print(ecommerce_behavior.head())\n"
   ]
  },
  {
   "cell_type": "code",
   "execution_count": null,
   "id": "5a885edd",
   "metadata": {
    "vscode": {
     "languageId": "plaintext"
    }
   },
   "outputs": [],
   "source": [
    "# 处理E-commerce Data的缺失值\n",
    "ecommerce_data['CustomerID'].fillna(ecommerce_data['CustomerID'].mode()[0], inplace=True)\n",
    "ecommerce_data['Country'].fillna(ecommerce_data['Country'].mode()[0], inplace=True)\n",
    "ecommerce_data['Quantity'].fillna(ecommerce_data['Quantity'].mean(), inplace=True)\n",
    "\n",
    "# 处理E-Commerce Behavior数据的缺失值\n",
    "ecommerce_behavior['CustomerID'].fillna(ecommerce_behavior['CustomerID'].mode()[0], inplace=True)\n",
    "ecommerce_behavior['Country'].fillna(ecommerce_behavior['Country'].mode()[0], inplace=True)\n",
    "ecommerce_behavior['Quantity'].fillna(ecommerce_behavior['Quantity'].mean(), inplace=True)\n"
   ]
  },
  {
   "cell_type": "code",
   "execution_count": null,
   "id": "7d3f1d44",
   "metadata": {
    "vscode": {
     "languageId": "plaintext"
    }
   },
   "outputs": [],
   "source": [
    "# 使用IQR方法剔除异常值的函数\n",
    "def remove_outliers(df, column_name):\n",
    "    Q1 = df[column_name].quantile(0.25)\n",
    "    Q3 = df[column_name].quantile(0.75)\n",
    "    IQR = Q3 - Q1\n",
    "    return df[(df[column_name] >= (Q1 - 1.5 * IQR)) & (df[column_name] <= (Q3 + 1.5 * IQR))]\n",
    "\n",
    "# 对E-commerce Data处理异常值\n",
    "ecommerce_data = remove_outliers(ecommerce_data, 'Quantity')\n",
    "\n",
    "# 对E-commerce Behavior数据处理异常值\n",
    "ecommerce_behavior = remove_outliers(ecommerce_behavior, 'Quantity')\n"
   ]
  },
  {
   "cell_type": "code",
   "execution_count": null,
   "id": "f5a3972c",
   "metadata": {
    "vscode": {
     "languageId": "plaintext"
    }
   },
   "outputs": [],
   "source": [
    "# 初始化标准化对象\n",
    "scaler = StandardScaler()\n",
    "\n",
    "# 对E-commerce Data的数值列进行标准化\n",
    "ecommerce_data[['Quantity', 'UnitPrice']] = scaler.fit_transform(ecommerce_data[['Quantity', 'UnitPrice']])\n",
    "\n",
    "# 对E-commerce Behavior数据的数值列进行标准化\n",
    "ecommerce_behavior[['Quantity', 'UnitPrice']] = scaler.fit_transform(ecommerce_behavior[['Quantity', 'UnitPrice']])\n",
    "\n",
    "# 查看数据标准化后的结果\n",
    "print(\"\\nE-commerce Data after Standardization:\")\n",
    "print(ecommerce_data.head())\n",
    "\n",
    "print(\"\\nE-Commerce Behavior Data after Standardization:\")\n",
    "print(ecommerce_behavior.head())\n"
   ]
  },
  {
   "cell_type": "code",
   "execution_count": null,
   "id": "3cdf0c1b",
   "metadata": {
    "vscode": {
     "languageId": "plaintext"
    }
   },
   "outputs": [],
   "source": [
    "# 对E-commerce Data的类别型数据进行One-Hot编码\n",
    "ecommerce_data = pd.get_dummies(ecommerce_data, columns=['Country'], drop_first=True)\n",
    "\n",
    "# 对E-commerce Behavior数据的类别型数据进行One-Hot编码\n",
    "ecommerce_behavior = pd.get_dummies(ecommerce_behavior, columns=['Country'], drop_first=True)\n",
    "\n",
    "# 查看编码后的数据\n",
    "print(\"\\nE-commerce Data with One-Hot Encoding:\")\n",
    "print(ecommerce_data.head())\n",
    "\n",
    "print(\"\\nE-Commerce Behavior Data with One-Hot Encoding:\")\n",
    "print(ecommerce_behavior.head())\n"
   ]
  },
  {
   "cell_type": "code",
   "execution_count": null,
   "id": "dc752ce6",
   "metadata": {
    "vscode": {
     "languageId": "plaintext"
    }
   },
   "outputs": [],
   "source": [
    "# 对E-commerce Data进行特征构造：用户的总购买金额\n",
    "ecommerce_data['TotalPurchaseAmount'] = ecommerce_data['Quantity'] * ecommerce_data['UnitPrice']\n",
    "\n",
    "# 对E-commerce Behavior数据进行特征构造：用户的总购买金额\n",
    "ecommerce_behavior['TotalPurchaseAmount'] = ecommerce_behavior['Quantity'] * ecommerce_behavior['UnitPrice']\n",
    "\n",
    "# 查看新特征\n",
    "print(\"\\nE-commerce Data with new features:\")\n",
    "print(ecommerce_data[['CustomerID', 'TotalPurchaseAmount']].head())\n",
    "\n",
    "print(\"\\nE-Commerce Behavior Data with new features:\")\n",
    "print(ecommerce_behavior[['CustomerID', 'TotalPurchaseAmount']].head())\n"
   ]
  },
  {
   "cell_type": "code",
   "execution_count": null,
   "id": "a5999972",
   "metadata": {
    "vscode": {
     "languageId": "plaintext"
    }
   },
   "outputs": [],
   "source": [
    "# 对E-commerce Data进行数据集划分\n",
    "X_ecommerce = ecommerce_data.drop(['TotalPurchaseAmount'], axis=1)  # 特征列\n",
    "y_ecommerce = ecommerce_data['TotalPurchaseAmount']  # 目标列\n",
    "X_train_ecommerce, X_test_ecommerce, y_train_ecommerce, y_test_ecommerce = train_test_split(X_ecommerce, y_ecommerce, test_size=0.2, random_state=42)\n",
    "\n",
    "# 对E-commerce Behavior数据进行数据集划分\n",
    "X_behavior = ecommerce_behavior.drop(['TotalPurchaseAmount'], axis=1)  # 特征列\n",
    "y_behavior = ecommerce_behavior['TotalPurchaseAmount']  # 目标列\n",
    "X_train_behavior, X_test_behavior, y_train_behavior, y_test_behavior = train_test_split(X_behavior, y_behavior, test_size=0.2, random_state=42)\n",
    "\n",
    "# 输出划分后的数据集大小\n",
    "print(f'E-commerce Data Training set size: {X_train_ecommerce.shape}, Test set size: {X_test_ecommerce.shape}')\n",
    "print(f'E-commerce Behavior Training set size: {X_train_behavior.shape}, Test set size: {X_test_behavior.shape}')\n"
   ]
  },
  {
   "cell_type": "code",
   "execution_count": null,
   "id": "e59df6df",
   "metadata": {
    "vscode": {
     "languageId": "plaintext"
    }
   },
   "outputs": [],
   "source": [
    "# 保存处理后的数据为新的CSV文件\n",
    "ecommerce_data.to_csv('./data/processed_ecommerce_data.csv', index=False)\n",
    "ecommerce_behavior.to_csv('./data/processed_ecommerce_behavior.csv', index=False)\n",
    "\n",
    "print(\"Processed data saved successfully!\")\n"
   ]
  }
 ],
 "metadata": {
  "language_info": {
   "name": "python"
  }
 },
 "nbformat": 4,
 "nbformat_minor": 5
}
