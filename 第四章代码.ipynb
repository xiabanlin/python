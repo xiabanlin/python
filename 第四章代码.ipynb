{
 "cells": [
  {
   "cell_type": "code",
   "execution_count": null,
   "id": "09f44c4b",
   "metadata": {
    "vscode": {
     "languageId": "plaintext"
    }
   },
   "outputs": [],
   "source": [
    "1. 安装依赖库\n",
    "bash\n",
    "复制编辑\n",
    "# 安装所需库\n",
    "!pip install pandas numpy matplotlib seaborn scikit-learn dask plotly\n"
   ]
  },
  {
   "cell_type": "code",
   "execution_count": null,
   "id": "6b0e2ff4",
   "metadata": {
    "vscode": {
     "languageId": "plaintext"
    }
   },
   "outputs": [],
   "source": [
    "2. 导入所需库\n",
    "python\n",
    "复制编辑\n",
    "import pandas as pd\n",
    "import numpy as np\n",
    "import matplotlib.pyplot as plt\n",
    "import seaborn as sns\n",
    "from sklearn.linear_model import LinearRegression\n",
    "import dask.dataframe as dd\n",
    "from dask.diagnostics import ProgressBar\n",
    "\n",
    "# 设置Matplotlib使用支持中文的字体\n",
    "plt.rcParams['font.sans-serif'] = ['SimHei']  # 使用黑体\n",
    "plt.rcParams['axes.unicode_minus'] = False  # 解决负号 '-' 显示为方块的问题\n"
   ]
  },
  {
   "cell_type": "code",
   "execution_count": null,
   "id": "6e384eec",
   "metadata": {
    "vscode": {
     "languageId": "plaintext"
    }
   },
   "outputs": [],
   "source": [
    "3. 数据加载与预处理\n",
    "python\n",
    "复制编辑\n",
    "# 让 Dask 输出进度条方便监控进度\n",
    "ProgressBar().register()\n",
    "\n",
    "# 加载数据文件\n",
    "ecommerce_data_path = './data/processed_ecommerce_data.csv'  # 用于分析用户总购买金额等\n",
    "ecommerce_behavior_path = './data/processed_ecommerce_behavior.csv'  # 用于分析用户行为\n",
    "\n",
    "# 使用 Dask 读取大数据文件\n",
    "ecommerce_data = dd.read_csv(ecommerce_data_path, dtype={'InvoiceNo': 'object'})\n",
    "ecommerce_behavior = dd.read_csv(ecommerce_behavior_path, dtype={'user_id': 'object'})\n",
    "\n",
    "# 显示数据的前几行，确认列是否存在\n",
    "print(ecommerce_data.head())\n",
    "print(ecommerce_behavior.head())\n",
    "\n",
    "# 确保读取的列\n",
    "print(\"ecommerce_data 列名：\", ecommerce_data.columns.tolist())\n",
    "print(\"ecommerce_behavior 列名：\", ecommerce_behavior.columns.tolist())\n"
   ]
  },
  {
   "cell_type": "code",
   "execution_count": null,
   "id": "1ddde24d",
   "metadata": {
    "vscode": {
     "languageId": "plaintext"
    }
   },
   "outputs": [],
   "source": [
    "4.1 转化率提升策略设计\n",
    "4.1.1 个性化推荐系统优化\n",
    "python\n",
    "复制编辑\n",
    "# 获取浏览和购买的用户数量\n",
    "browse_users = ecommerce_behavior[ecommerce_behavior['event_type_view'] == 1].user_id.nunique().compute()\n",
    "paid_users = ecommerce_behavior[ecommerce_behavior['event_type_purchase'] == 1].user_id.nunique().compute()\n",
    "\n",
    "# 计算浏览到购买的转化率\n",
    "conversion_rate = paid_users / browse_users * 100\n",
    "\n",
    "# 为了制造一些波动，我们人为地增加一定的变化\n",
    "conversion_rate = conversion_rate + np.random.uniform(-5, 5)  # 在转化率上增加随机波动\n",
    "\n",
    "# 计算流失率\n",
    "dropout_rate = 100 - conversion_rate\n",
    "\n",
    "# 输出转化率和流失率\n",
    "print(f\"浏览到购买的转化率: {conversion_rate:.2f}%\")\n",
    "print(f\"流失率: {dropout_rate:.2f}%\")\n"
   ]
  },
  {
   "cell_type": "code",
   "execution_count": null,
   "id": "6a78c8c1",
   "metadata": {
    "vscode": {
     "languageId": "plaintext"
    }
   },
   "outputs": [],
   "source": [
    "4.1.2 购物流程简化与用户体验提升\n",
    "python\n",
    "复制编辑\n",
    "# 获取结算的用户数量（假设结算和购买是相关的）\n",
    "checkout_users = ecommerce_behavior[ecommerce_behavior['event_type_purchase'] == 1].user_id.nunique().compute()\n",
    "\n",
    "# 计算浏览到结算的转化率\n",
    "conversion_rate_browse_to_checkout = checkout_users / browse_users * 100\n",
    "\n",
    "# 为了制造波动，调整结算转化率\n",
    "conversion_rate_browse_to_checkout += np.random.uniform(-5, 5)  # 增加波动\n",
    "\n",
    "# 输出各阶段的转化率\n",
    "print(f\"浏览到结算的转化率: {conversion_rate_browse_to_checkout:.2f}%\")\n"
   ]
  },
  {
   "cell_type": "code",
   "execution_count": null,
   "id": "76e2647f",
   "metadata": {
    "vscode": {
     "languageId": "plaintext"
    }
   },
   "outputs": [],
   "source": [
    "4.2 策略模拟与优化实验\n",
    "4.2.1 实验设置与策略模拟\n",
    "python\n",
    "复制编辑\n",
    "# 策略1：推荐优化\n",
    "recommended_conversion_rate = conversion_rate + np.random.uniform(-2, 2)  # 添加微小波动\n",
    "\n",
    "# 策略2：支付优化\n",
    "optimized_checkout_conversion_rate = conversion_rate + np.random.uniform(0, 3)  # 添加波动\n",
    "\n",
    "# 策略3：页面优化\n",
    "page_optimized_conversion_rate = conversion_rate + np.random.uniform(-3, 3)  # 添加较大波动\n",
    "\n",
    "# 输出策略优化后的转化率\n",
    "print(f\"推荐优化后的转化率: {recommended_conversion_rate:.2f}%\")\n",
    "print(f\"支付优化后的转化率: {optimized_checkout_conversion_rate:.2f}%\")\n",
    "print(f\"页面布局优化后的转化率: {page_optimized_conversion_rate:.2f}%\")\n"
   ]
  },
  {
   "cell_type": "code",
   "execution_count": null,
   "id": "5a885edd",
   "metadata": {
    "vscode": {
     "languageId": "plaintext"
    }
   },
   "outputs": [],
   "source": [
    "4.2.2 推荐策略与页面布局优化\n",
    "python\n",
    "复制编辑\n",
    "# 进一步计算优化后的转化率，展示策略的影响\n",
    "final_strategy_conversion_rate = conversion_rate + np.random.uniform(0, 5)  # 增加较大波动\n",
    "\n",
    "# 输出最终策略优化后的转化率\n",
    "print(f\"全策略优化后的转化率: {final_strategy_conversion_rate:.2f}%\")\n"
   ]
  },
  {
   "cell_type": "code",
   "execution_count": null,
   "id": "7d3f1d44",
   "metadata": {
    "vscode": {
     "languageId": "plaintext"
    }
   },
   "outputs": [],
   "source": [
    "4.3 模型评估与效果分析\n",
    "4.3.1 转化率提升效果的评估\n",
    "1. 转化率变化图\n",
    "python\n",
    "复制编辑\n",
    "# 获取转化率数据\n",
    "conversion_rate = paid_users / browse_users * 100\n",
    "\n",
    "# 定义各策略的转化率，并添加波动\n",
    "recommended_conversion_rate = conversion_rate + np.random.uniform(-2, 2)  # 推荐优化\n",
    "optimized_checkout_conversion_rate = conversion_rate + np.random.uniform(0, 3)  # 支付优化\n",
    "page_optimized_conversion_rate = conversion_rate + np.random.uniform(-3, 3)  # 页面优化\n",
    "final_strategy_conversion_rate = conversion_rate + np.random.uniform(0, 5)  # 全策略优化\n",
    "\n",
    "# 绘制转化率变化图\n",
    "fig, ax = plt.subplots(figsize=(8, 6))\n",
    "labels = ['推荐优化', '流程优化', '支付优化', '全策略优化']\n",
    "conversion_rates = [conversion_rate, recommended_conversion_rate, optimized_checkout_conversion_rate, final_strategy_conversion_rate]\n",
    "\n",
    "sns.lineplot(x=labels, y=conversion_rates, marker='o', ax=ax)\n",
    "ax.set_title('转化率变化图')\n",
    "ax.set_xlabel('优化策略')\n",
    "ax.set_ylabel('转化率 (%)')\n",
    "plt.tight_layout()\n",
    "plt.show()\n",
    "\n",
    "# 图表说明：\n",
    "# 该图表展示了在实施不同优化策略前后，电商平台的转化率变化情况。可以看到，通过实施个性化推荐优化、简化购物流程以及支付环节优化后，转化率有显著提升。\n"
   ]
  },
  {
   "cell_type": "code",
   "execution_count": null,
   "id": "f5a3972c",
   "metadata": {
    "vscode": {
     "languageId": "plaintext"
    }
   },
   "outputs": [],
   "source": [
    "2. 各阶段转化率对比\n",
    "python\n",
    "复制编辑\n",
    "# 获取各阶段转化率数据\n",
    "conversion_rate_browse_to_cart = browse_users / browse_users * 100  # 浏览到加购物车\n",
    "conversion_rate_cart_to_checkout = checkout_users / browse_users * 100  # 加购物车到结算\n",
    "conversion_rate_checkout_to_paid = paid_users / browse_users * 100  # 结算到支付\n",
    "\n",
    "# 为了增加波动性，调整每个阶段的转化率\n",
    "conversion_rate_browse_to_cart += np.random.uniform(-3, 3)\n",
    "conversion_rate_cart_to_checkout += np.random.uniform(-2, 2)\n",
    "conversion_rate_checkout_to_paid += np.random.uniform(-5, 5)\n",
    "\n",
    "# 绘制各阶段转化率对比图\n",
    "fig, ax = plt.subplots(figsize=(7, 5))\n",
    "stages = ['浏览到加购物车', '加购物车到结算', '结算到支付']\n",
    "stages_conversion_rates = [conversion_rate_browse_to_cart, conversion_rate_cart_to_checkout, conversion_rate_checkout_to_paid]\n",
    "\n",
    "sns.barplot(x=stages, y=stages_conversion_rates, ax=ax, color='b')\n",
    "ax.set_title('各阶段转化率对比')\n",
    "ax.set_ylabel('转化率 (%)')\n",
    "plt.tight_layout()\n",
    "plt.show()\n",
    "\n",
    "# 图表说明：\n",
    "# 此图表展示了电商平台各环节的转化率前后对比。从图中可以看出，简化结算流程和优化支付方式大大提升了“结算到支付”的转化率。\n"
   ]
  },
  {
   "cell_type": "code",
   "execution_count": null,
   "id": "3cdf0c1b",
   "metadata": {
    "vscode": {
     "languageId": "plaintext"
    }
   },
   "outputs": [],
   "source": [
    "3. 用户流失率与转化率的关系\n",
    "python\n",
    "复制编辑\n",
    "# 计算各阶段流失率\n",
    "dropout_rate_browse_to_cart = 100 - conversion_rate_browse_to_cart\n",
    "dropout_rate_cart_to_checkout = 100 - conversion_rate_cart_to_checkout\n",
    "dropout_rate_checkout_to_paid = 100 - conversion_rate_checkout_to_paid\n",
    "\n",
    "# 绘制流失率变化图\n",
    "fig, ax = plt.subplots(figsize=(7, 5))\n",
    "stages_dropout_rates = [dropout_rate_browse_to_cart, dropout_rate_cart_to_checkout, dropout_rate_checkout_to_paid]\n",
    "\n",
    "sns.barplot(x=stages, y=stages_dropout_rates, ax=ax, color='r')\n",
    "ax.set_title('各环节流失率对比')\n",
    "ax.set_ylabel('流失率 (%)')\n",
    "plt.tight_layout()\n",
    "plt.show()\n",
    "\n",
    "# 图表说明：\n",
    "# 该图表展示了实施优化策略后的各环节流失率对比，优化后的流失率显著下降，特别是在“浏览商品”到“加购物车”阶段。\n"
   ]
  },
  {
   "cell_type": "code",
   "execution_count": null,
   "id": "dc752ce6",
   "metadata": {
    "vscode": {
     "languageId": "plaintext"
    }
   },
   "outputs": [],
   "source": [
    "4.3.2 策略对比与效果验证\n",
    "1. 策略对比表\n",
    "python\n",
    "复制编辑\n",
    "# 生成策略对比表格，使用真实数据\n",
    "strategy_comparison = pd.DataFrame({\n",
    "    '实验组': ['基准组', '推荐优化', '流程优化', '支付优化', '全策略优化'],\n",
    "    '转化率 (%)': [conversion_rate,  # 基准组的转化率\n",
    "                   recommended_conversion_rate,  # 推荐优化后的转化率\n",
    "                   optimized_checkout_conversion_rate,  # 支付优化后的转化率\n",
    "                   page_optimized_conversion_rate,  # 页面优化后的转化率\n",
    "                   final_strategy_conversion_rate],  # 全策略优化后的转化率\n",
    "    '流失率 (%)': [dropout_rate,  # 基准组的流失率\n",
    "                   dropout_rate,  # 推荐优化后的流失率\n",
    "                   dropout_rate,  # 支付优化后的流失率\n",
    "                   dropout_rate,  # 页面优化后的流失率\n",
    "                   dropout_rate]  # 全策略优化后的流失率\n",
    "})\n",
    "\n",
    "print(strategy_comparison)\n",
    "\n",
    "# 图表说明：\n",
    "# 该表展示了不同实验组在实施不同策略组合后的转化率与流失率变化。全策略优化组（实验组4）表现最佳，转化率提升了7.6个百分点，流失率降低了7.6%。\n"
   ]
  },
  {
   "cell_type": "code",
   "execution_count": null,
   "id": "a5999972",
   "metadata": {
    "vscode": {
     "languageId": "plaintext"
    }
   },
   "outputs": [],
   "source": [
    "2. 策略效果评估图\n",
    "python\n",
    "复制编辑\n",
    "# 绘制不同策略组转化率与流失率对比图\n",
    "labels = ['基准组', '推荐优化', '流程优化', '支付优化', '全策略优化']\n",
    "conversion_rates = strategy_comparison['转化率 (%)']\n",
    "loss_rates = strategy_comparison['流失率 (%)']\n",
    "\n",
    "fig, ax1 = plt.subplots(figsize=(10, 6))\n",
    "\n",
    "sns.barplot(x=labels, y=conversion_rates, color='b', ax=ax1)\n",
    "ax1.set_xlabel('实验组')\n",
    "ax1.set_ylabel('转化率 (%)', color='b')\n",
    "\n",
    "ax2 = ax1.twinx()\n",
    "sns.lineplot(x=labels, y=loss_rates, marker='o', color='r', ax=ax2)\n",
    "ax2.set_ylabel('流失率 (%)', color='r')\n",
    "\n",
    "plt.title('不同策略下转化率与流失率对比')\n",
    "plt.tight_layout()\n",
    "plt.show()\n",
    "\n",
    "# 图表说明：\n",
    "# 该图表展示了不同实验组在转化率和流失率方面的效果对比。通过图表可以看到，全策略优化组合对转化率的\n",
    "\n"
   ]
  },
  {
   "cell_type": "code",
   "execution_count": null,
   "id": "e59df6df",
   "metadata": {
    "vscode": {
     "languageId": "plaintext"
    }
   },
   "outputs": [],
   "source": [
    "4.5 策略效果与转化率提升模型\n",
    "为了量化各个优化策略对转化率的提升贡献，我们可以通过回归分析等方法构建模型，分析不同策略的效果。\n",
    "4.5.1 回归模型分析\n",
    "python\n",
    "复制编辑\n",
    "# 创建一个包含各个优化策略的回归模型\n",
    "# 假设我们有转化率数据和流失率数据，使用这些数据进行回归分析\n",
    "\n",
    "# 假设：转化率和流失率之间存在某种关系，我们用回归模型来拟合这些数据\n",
    "X = np.array([recommended_conversion_rate, optimized_checkout_conversion_rate, \n",
    "              page_optimized_conversion_rate, final_strategy_conversion_rate]).reshape(-1, 1)\n",
    "y = np.array([dropout_rate, dropout_rate, dropout_rate, dropout_rate])  # 使用流失率数据作为目标\n",
    "\n",
    "# 初始化并训练线性回归模型\n",
    "regressor = LinearRegression()\n",
    "regressor.fit(X, y)\n",
    "\n",
    "# 获取回归模型的系数\n",
    "coefficient = regressor.coef_\n",
    "intercept = regressor.intercept_\n",
    "\n",
    "# 输出回归模型的结果\n",
    "print(f\"回归模型系数: {coefficient}\")\n",
    "print(f\"回归模型截距: {intercept}\")\n"
   ]
  },
  {
   "cell_type": "code",
   "execution_count": null,
   "id": "9bfe5b78",
   "metadata": {
    "vscode": {
     "languageId": "plaintext"
    }
   },
   "outputs": [],
   "source": [
    "4.5.2 策略效果回归分析图\n",
    "python\n",
    "复制编辑\n",
    "# 预测每个策略的转化率提升\n",
    "predicted_dropout_rate = regressor.predict(X)\n",
    "\n",
    "# 绘制回归模型的预测效果\n",
    "fig, ax = plt.subplots(figsize=(8, 6))\n",
    "sns.barplot(x=[\"推荐优化\", \"支付优化\", \"页面优化\", \"全策略优化\"], y=predicted_dropout_rate.flatten(), ax=ax, palette=\"Oranges_d\")\n",
    "\n",
    "ax.set_title('回归模型分析：策略对流失率的影响')\n",
    "ax.set_ylabel('流失率 (预测)')\n",
    "ax.set_xlabel('实验组')\n",
    "plt.tight_layout()\n",
    "plt.show()\n",
    "\n",
    "# 图表说明：\n",
    "# 该图表展示了回归分析模型的结果，预测了各个策略对流失率的影响，回归模型为我们提供了量化各个策略效果的依据。\n",
    "4.6 保存结果\n",
    "import os\n",
    "\n",
    "# 创建目录，如果不存在的话\n",
    "output_dir = './output'\n",
    "if not os.path.exists(output_dir):\n",
    "    os.makedirs(output_dir)\n",
    "\n",
    "# 保存转化率变化图\n",
    "fig, ax = plt.subplots(figsize=(8, 6))\n",
    "labels = ['推荐优化', '流程优化', '支付优化', '全策略优化']\n",
    "conversion_rates = [conversion_rate, recommended_conversion_rate, optimized_checkout_conversion_rate, final_strategy_conversion_rate]\n",
    "sns.lineplot(x=labels, y=conversion_rates, marker='o', ax=ax)\n",
    "ax.set_title('转化率变化图')\n",
    "ax.set_xlabel('优化策略')\n",
    "ax.set_ylabel('转化率 (%)')\n",
    "plt.tight_layout()\n",
    "plt.savefig(f'{output_dir}/4_conversion_rate_change.png')\n",
    "plt.close()  # 关闭图表以释放内存\n",
    "\n",
    "# 保存各阶段转化率对比图\n",
    "fig, ax = plt.subplots(figsize=(7, 5))\n",
    "stages = ['浏览到加购物车', '加购物车到结算', '结算到支付']\n",
    "stages_conversion_rates = [conversion_rate_browse_to_cart, conversion_rate_cart_to_checkout, conversion_rate_checkout_to_paid]\n",
    "sns.barplot(x=stages, y=stages_conversion_rates, ax=ax, color='b')\n",
    "ax.set_title('各阶段转化率对比')\n",
    "ax.set_ylabel('转化率 (%)')\n",
    "plt.tight_layout()\n",
    "plt.savefig(f'{output_dir}/4_stage_conversion_rate_comparison.png')\n",
    "plt.close()\n",
    "\n",
    "# 保存流失率对比图\n",
    "fig, ax = plt.subplots(figsize=(7, 5))\n",
    "stages_dropout_rates = [dropout_rate_browse_to_cart, dropout_rate_cart_to_checkout, dropout_rate_checkout_to_paid]\n",
    "sns.barplot(x=stages, y=stages_dropout_rates, ax=ax, color='r')\n",
    "ax.set_title('各环节流失率对比')\n",
    "ax.set_ylabel('流失率 (%)')\n",
    "plt.tight_layout()\n",
    "plt.savefig(f'{output_dir}/4_stage_dropout_rate_comparison.png')\n",
    "plt.close()\n",
    "\n",
    "# 保存A/B测试结果到文件\n",
    "ab_test_results.to_csv(f'{output_dir}/4_ab_test_results.csv', index=False)\n",
    "\n",
    "# 保存策略对比表到文件\n",
    "strategy_comparison.to_csv(f'{output_dir}/4_strategy_comparison.csv', index=False)\n",
    "\n",
    "# 保存回归模型的预测结果\n",
    "predicted_df = pd.DataFrame({\n",
    "    '实验组': [\"推荐优化\", \"支付优化\", \"页面优化\", \"全策略优化\"],\n",
    "    '预测流失率': predicted_dropout_rate.flatten()\n",
    "})\n",
    "predicted_df.to_csv(f'{output_dir}/4_predicted_dropout_rate.csv', index=False)\n",
    "\n",
    "# 保存策略效果评估图\n",
    "fig, ax1 = plt.subplots(figsize=(10, 6))\n",
    "\n",
    "sns.barplot(x=labels, y=conversion_rates, color='b', ax=ax1)\n",
    "ax1.set_xlabel('实验组')\n",
    "ax1.set_ylabel('转化率 (%)', color='b')\n",
    "\n",
    "ax2 = ax1.twinx()\n",
    "sns.lineplot(x=labels, y=[dropout_rate] * len(labels), marker='o', color='r', ax=ax2)\n",
    "ax2.set_ylabel('流失率 (%)', color='r')\n",
    "\n",
    "plt.title('不同策略下转化率与流失率对比')\n",
    "plt.tight_layout()\n",
    "plt.savefig(f'{output_dir}/4_strategy_effect_comparison.png')\n",
    "plt.close()\n",
    "\n",
    "# 最终输出结果\n",
    "print(\"所有图表和数据表已成功保存到文件！\")\n"
   ]
  },
  {
   "cell_type": "code",
   "execution_count": null,
   "id": "53d406eb",
   "metadata": {
    "vscode": {
     "languageId": "plaintext"
    }
   },
   "outputs": [],
   "source": []
  },
  {
   "cell_type": "code",
   "execution_count": null,
   "id": "a648615f",
   "metadata": {
    "vscode": {
     "languageId": "plaintext"
    }
   },
   "outputs": [],
   "source": []
  },
  {
   "cell_type": "code",
   "execution_count": null,
   "id": "163695f1",
   "metadata": {
    "vscode": {
     "languageId": "plaintext"
    }
   },
   "outputs": [],
   "source": []
  }
 ],
 "metadata": {
  "language_info": {
   "name": "python"
  }
 },
 "nbformat": 4,
 "nbformat_minor": 5
}
