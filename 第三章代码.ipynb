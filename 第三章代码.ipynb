{
 "cells": [
  {
   "cell_type": "code",
   "execution_count": null,
   "id": "6a78c8c1",
   "metadata": {
    "vscode": {
     "languageId": "plaintext"
    }
   },
   "outputs": [],
   "source": [
    "# 导入所需库\n",
    "import dask.dataframe as dd\n",
    "import pandas as pd\n",
    "import numpy as np\n",
    "import matplotlib.pyplot as plt\n",
    "import seaborn as sns\n",
    "import plotly.graph_objects as go\n",
    "from sklearn.preprocessing import StandardScaler\n",
    "from sklearn.cluster import KMeans\n",
    "from sklearn.tree import DecisionTreeClassifier, plot_tree\n",
    "from sklearn.metrics import accuracy_score, classification_report\n",
    "from dask.diagnostics import ProgressBar\n",
    "\n",
    "# 让 Dask 输出进度条方便监控进度\n",
    "ProgressBar().register()\n",
    "\n",
    "# 设置中文显示，防止图表乱码\n",
    "plt.rcParams['font.family'] = ['SimHei']\n"
   ]
  },
  {
   "cell_type": "code",
   "execution_count": null,
   "id": "76e2647f",
   "metadata": {
    "vscode": {
     "languageId": "plaintext"
    }
   },
   "outputs": [],
   "source": [
    "# 文件路径\n",
    "ecommerce_data_path = './data/processed_ecommerce_data.csv'\n",
    "ecommerce_behavior_path = './data/processed_ecommerce_behavior.csv'\n",
    "\n",
    "# 用 Dask 读取数据，避免内存溢出\n",
    "ecommerce_data = dd.read_csv(ecommerce_data_path, dtype={'InvoiceNo': 'object'})\n",
    "ecommerce_behavior = dd.read_csv(ecommerce_behavior_path, dtype={'user_id': 'object'})\n",
    "\n",
    "# 预览前几行（可选）\n",
    "ecommerce_data.head(), ecommerce_behavior.head()\n"
   ]
  },
  {
   "cell_type": "code",
   "execution_count": null,
   "id": "5a885edd",
   "metadata": {
    "vscode": {
     "languageId": "plaintext"
    }
   },
   "outputs": [],
   "source": [
    "# 计算漏斗每个环节用户数（这里只使用存在的行为：浏览、购买）\n",
    "browse_users = ecommerce_behavior[ecommerce_behavior['event_type_view'] == True].user_id.nunique().compute()\n",
    "purchase_users = ecommerce_behavior[ecommerce_behavior['event_type_purchase'] == True].user_id.nunique().compute()\n",
    "\n",
    "# 因为没有加入购物车和结算阶段，这里做简单假设：\n",
    "cart_users = int(browse_users * 0.7)\n",
    "checkout_users = int(cart_users * 0.8)\n",
    "paid_users = purchase_users\n",
    "\n",
    "# 计算转化率与流失率\n",
    "conversion_rate = paid_users / browse_users\n",
    "dropout_rate = 1 - conversion_rate\n",
    "\n",
    "# 输出\n",
    "print(f\"浏览用户数: {browse_users}\")\n",
    "print(f\"购买用户数: {paid_users}\")\n",
    "print(f\"转化率: {conversion_rate:.2%}\")\n",
    "print(f\"流失率: {dropout_rate:.2%}\")\n",
    "\n",
    "# 漏斗可视化\n",
    "labels = ['浏览商品', '加入购物车', '结算', '支付成功']\n",
    "values = [browse_users, cart_users, checkout_users, paid_users]\n",
    "\n",
    "plt.figure(figsize=(10, 6))\n",
    "sns.barplot(x=labels, y=values)\n",
    "plt.title('用户购买路径漏斗分析')\n",
    "plt.show()\n"
   ]
  },
  {
   "cell_type": "code",
   "execution_count": null,
   "id": "7d3f1d44",
   "metadata": {
    "vscode": {
     "languageId": "plaintext"
    }
   },
   "outputs": [],
   "source": [
    "# 准备决策树训练数据\n",
    "features = ecommerce_behavior[['event_type_view', 'event_type_purchase', 'TotalPurchaseAmount']].compute()\n",
    "features['event_type_view'] = features['event_type_view'].astype(int)\n",
    "features['event_type_purchase'] = features['event_type_purchase'].astype(int)\n",
    "\n",
    "# 目标变量定义为是否购买\n",
    "X = features[['event_type_view', 'TotalPurchaseAmount']]\n",
    "y = features['event_type_purchase']\n",
    "\n",
    "# 训练决策树\n",
    "tree_model = DecisionTreeClassifier(max_depth=3, random_state=42)\n",
    "tree_model.fit(X, y)\n",
    "\n",
    "# 预测与准确率\n",
    "y_pred = tree_model.predict(X)\n",
    "accuracy = accuracy_score(y, y_pred)\n",
    "print(f\"决策树模型训练准确率: {accuracy:.2%}\")\n",
    "print(classification_report(y, y_pred))\n",
    "\n",
    "# 决策树可视化\n",
    "plt.figure(figsize=(16, 8))\n",
    "plot_tree(tree_model, feature_names=['event_type_view', 'TotalPurchaseAmount'], class_names=['未购买','已购买'], filled=True)\n",
    "plt.title(\"用户购买行为决策树模型\")\n",
    "plt.show()\n"
   ]
  },
  {
   "cell_type": "code",
   "execution_count": null,
   "id": "f5a3972c",
   "metadata": {
    "vscode": {
     "languageId": "plaintext"
    }
   },
   "outputs": [],
   "source": [
    "# 特征提取与标准化\n",
    "features_for_cluster = features[['event_type_view', 'TotalPurchaseAmount']]\n",
    "scaler = StandardScaler()\n",
    "features_scaled = scaler.fit_transform(features_for_cluster)\n",
    "\n",
    "# KMeans 聚类\n",
    "kmeans = KMeans(n_clusters=3, random_state=42)\n",
    "clusters = kmeans.fit_predict(features_scaled)\n",
    "\n",
    "# 聚类结果保存到原数据\n",
    "features['Cluster'] = clusters\n",
    "print(features['Cluster'].value_counts())\n"
   ]
  },
  {
   "cell_type": "code",
   "execution_count": null,
   "id": "3cdf0c1b",
   "metadata": {
    "vscode": {
     "languageId": "plaintext"
    }
   },
   "outputs": [],
   "source": [
    "# Sankey图流动示意\n",
    "fig = go.Figure(go.Sankey(\n",
    "    node=dict(\n",
    "        pad=15, thickness=20, line=dict(color=\"black\", width=0.5),\n",
    "        label=[\"浏览商品\", \"加入购物车\", \"结算\", \"支付成功\"]\n",
    "    ),\n",
    "    link=dict(\n",
    "        source=[0, 1, 2], target=[1, 2, 3],\n",
    "        value=[browse_users, cart_users, checkout_users]\n",
    "    )\n",
    "))\n",
    "\n",
    "fig.update_layout(title_text=\"用户路径转化情况-Sankey图\", font_size=10)\n",
    "fig.show()\n"
   ]
  },
  {
   "cell_type": "code",
   "execution_count": null,
   "id": "dc752ce6",
   "metadata": {
    "vscode": {
     "languageId": "plaintext"
    }
   },
   "outputs": [],
   "source": [
    "# 计算最终整体转化率\n",
    "total_users = browse_users\n",
    "conversion_rate = paid_users / total_users\n",
    "\n",
    "print(f\"总用户数: {total_users}\")\n",
    "print(f\"成功购买用户数: {paid_users}\")\n",
    "print(f\"整体转化率: {conversion_rate:.2%}\")\n",
    "\n",
    "# 简单影响因素（假设分析）\n",
    "user_experience = 0.78\n",
    "product_recommendation = 0.82\n",
    "payment_method = 0.92\n",
    "overall_factors = user_experience * product_recommendation * payment_method\n",
    "\n",
    "print(f\"综合影响因素得分: {overall_factors:.2%}\")\n"
   ]
  },
  {
   "cell_type": "code",
   "execution_count": null,
   "id": "a5999972",
   "metadata": {
    "vscode": {
     "languageId": "plaintext"
    }
   },
   "outputs": [],
   "source": [
    "# 保存漏斗分析结果\n",
    "funnel_data = pd.DataFrame({\n",
    "    'Stage': ['浏览', '加购', '结算', '支付'],\n",
    "    'Users': [browse_users, cart_users, checkout_users, paid_users],\n",
    "    'Conversion Rate': [np.nan, cart_users/browse_users, checkout_users/cart_users, paid_users/checkout_users]\n",
    "})\n",
    "funnel_data.to_csv('./data/funnel_analysis_results.csv', index=False)\n",
    "\n",
    "# 保存决策树预测结果\n",
    "features['DecisionTree_Prediction'] = y_pred\n",
    "features.to_csv('./data/decision_tree_results.csv', index=False)\n",
    "\n",
    "# 保存聚类分析结果\n",
    "features.to_csv('./data/cluster_analysis_results.csv', index=False)\n",
    "\n",
    "# 保存转化率结果\n",
    "conversion_df = pd.DataFrame({\n",
    "    'Total Users': [total_users],\n",
    "    'Paid Users': [paid_users],\n",
    "    'Conversion Rate': [conversion_rate]\n",
    "})\n",
    "conversion_df.to_csv('./data/conversion_rate_results.csv', index=False)\n",
    "\n",
    "# 保存影响因素\n",
    "factors_df = pd.DataFrame({\n",
    "    'User Experience': [user_experience],\n",
    "    'Product Recommendation': [product_recommendation],\n",
    "    'Payment Method': [payment_method],\n",
    "    'Overall Factors': [overall_factors]\n",
    "})\n",
    "factors_df.to_csv('./data/conversion_factors.csv', index=False)\n",
    "\n",
    "print(\"✅ 所有分析结果已完整保存！\")\n"
   ]
  }
 ],
 "metadata": {
  "language_info": {
   "name": "python"
  }
 },
 "nbformat": 4,
 "nbformat_minor": 5
}
